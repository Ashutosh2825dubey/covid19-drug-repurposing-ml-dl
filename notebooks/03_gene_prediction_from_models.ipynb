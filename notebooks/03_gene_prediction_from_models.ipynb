{
 "cells": [
  {
   "cell_type": "markdown",
   "metadata": {},
   "source": [
    "## Gene Prediction from Trained Models\n",
    "\n",
    "This notebook loads pretrained ML and DL models and predicts whether new gene feature profiles are associated with COVID-19.\n",
    "\n",
    "We use:\n",
    "- Random Forest (scikit-learn) from classical ML\n",
    "- Fully connected neural net (Keras)\n",
    "\n",
    "Outputs:\n",
    "- Genes predicted positive by ML\n",
    "- Genes predicted positive by DL\n",
    "- Genes predicted positive by both\n"
   ]
  },
  {
   "cell_type": "markdown",
   "metadata": {},
   "source": [
    "\n",
    "Load Packages and Upload Input"
   ]
  },
  {
   "cell_type": "code",
   "execution_count": null,
   "metadata": {},
   "outputs": [],
   "source": [
    "import pandas as pd\n",
    "import numpy as np\n",
    "import joblib\n",
    "from tensorflow.keras.models import load_model\n",
    "import os\n",
    "\n",
    "# === Replace this with the path to your input CSV file ===\n",
    "input_file = 'path/to/your/input_gene_features.csv'\n",
    "\n",
    "# Load the CSV file\n",
    "data = pd.read_csv(input_file)\n",
    "print(f\"✅ Data loaded: {data.shape}\")\n",
    "\n"
   ]
  },
  {
   "cell_type": "markdown",
   "metadata": {},
   "source": [
    "Load Trained Models"
   ]
  },
  {
   "cell_type": "code",
   "execution_count": null,
   "metadata": {},
   "outputs": [],
   "source": [
    "# Load ML model components\n",
    "ml_scaler   = joblib.load(\"/content/scaler (11).pkl\")\n",
    "ml_pca      = joblib.load(\"/content/pca (8).pkl\")\n",
    "ml_features = joblib.load(\"/content/feature (2).pkl\")\n",
    "ml_model    = joblib.load(\"/content/rf_model (4).pkl\")\n",
    "\n",
    "# Load DL model components\n",
    "dl_scaler   = joblib.load(\"/content/scaler (12).pkl\")\n",
    "dl_pca      = joblib.load(\"/content/pca (9).pkl\")\n",
    "dl_features = joblib.load(\"/content/feature_names.pkl\")\n",
    "dl_model    = load_model(\"/content/model (2).h5\")\n",
    "\n",
    "# Gene IDs (fallback if column missing)\n",
    "gene_ids = data['Gene ID'].values if 'Gene ID' in data.columns else np.array([f\"Gene_{i}\" for i in range(len(data))])\n"
   ]
  },
  {
   "cell_type": "markdown",
   "metadata": {},
   "source": [
    "Make Predictions"
   ]
  },
  {
   "cell_type": "code",
   "execution_count": null,
   "metadata": {},
   "outputs": [],
   "source": [
    "# === ML Prediction ===\n",
    "ml_data = data.copy()\n",
    "ml_data.drop(columns=[c for c in ['Gene ID'] if c in ml_data.columns], inplace=True)\n",
    "ml_data = ml_data[ml_features]\n",
    "ml_data.replace([np.inf, -np.inf], 1, inplace=True)\n",
    "ml_data.fillna(0, inplace=True)\n",
    "\n",
    "ml_scaled = ml_scaler.transform(ml_data)\n",
    "ml_pca_data = ml_pca.transform(ml_scaled)\n",
    "ml_preds = (ml_model.predict(ml_pca_data) > 0.5).astype(int).flatten()\n",
    "ml_positive_ids = gene_ids[ml_preds == 1]\n",
    "\n",
    "# === DL Prediction ===\n",
    "dl_data = data.copy()\n",
    "dl_data.drop(columns=[c for c in ['Gene ID'] if c in dl_data.columns], inplace=True)\n",
    "dl_data = dl_data[dl_features]\n",
    "dl_data.replace([np.inf, -np.inf], 1, inplace=True)\n",
    "dl_data.fillna(0, inplace=True)\n",
    "\n",
    "dl_scaled = dl_scaler.transform(dl_data)\n",
    "dl_pca_data = dl_pca.transform(dl_scaled)\n",
    "dl_preds = (dl_model.predict(dl_pca_data, verbose=0) > 0.5).astype(int).flatten()\n",
    "dl_positive_ids = gene_ids[dl_preds == 1]\n",
    "\n",
    "# === Intersection ===\n",
    "common_positive_ids = np.intersect1d(ml_positive_ids, dl_positive_ids)\n"
   ]
  },
  {
   "cell_type": "markdown",
   "metadata": {},
   "source": [
    "Save Outputs"
   ]
  },
  {
   "cell_type": "code",
   "execution_count": null,
   "metadata": {},
   "outputs": [],
   "source": [
    "# Save to CSV\n",
    "ml_df     = pd.DataFrame({'Gene ID': ml_positive_ids})\n",
    "dl_df     = pd.DataFrame({'Gene ID': dl_positive_ids})\n",
    "common_df = pd.DataFrame({'Gene ID': common_positive_ids})\n",
    "\n",
    "ml_df.to_csv(\"ml_positive_genes.csv\", index=False)\n",
    "dl_df.to_csv(\"dl_positive_genes.csv\", index=False)\n",
    "common_df.to_csv(\"common_positive_genes.csv\", index=False)\n",
    "\n",
    "print(\"✅ Files saved:\")\n",
    "print(f\" - ML positive: {ml_df.shape[0]} genes\")\n",
    "print(f\" - DL positive: {dl_df.shape[0]} genes\")\n",
    "print(f\" - Common positive: {common_df.shape[0]} genes\")\n",
    "\n",
    "# Download (Colab)\n",
    "files.download(\"ml_positive_genes.csv\")\n",
    "files.download(\"dl_positive_genes.csv\")\n",
    "files.download(\"common_positive_genes.csv\")\n"
   ]
  }
 ],
 "metadata": {
  "language_info": {
   "name": "python"
  }
 },
 "nbformat": 4,
 "nbformat_minor": 2
}
