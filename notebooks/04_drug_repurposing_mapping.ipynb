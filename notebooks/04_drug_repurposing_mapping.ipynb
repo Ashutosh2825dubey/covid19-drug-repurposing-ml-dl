{
 "cells": [
  {
   "cell_type": "markdown",
   "metadata": {},
   "source": [
    "## Drug Repurposing from Predicted Genes\n",
    "\n",
    "This notebook:\n",
    "- Maps COVID-related predicted genes (from ML/DL) to known drugs\n",
    "- Uses a UniProt–DrugBank mapping file\n",
    "- Saves:\n",
    "  - Drug–gene pairs (`*_druggable_genes.csv`)\n",
    "  - Unique drugs (`*_unique_drugs.csv`)\n"
   ]
  },
  {
   "cell_type": "markdown",
   "metadata": {},
   "source": [
    "Load Libraries and paths"
   ]
  },
  {
   "cell_type": "code",
   "execution_count": null,
   "metadata": {},
   "outputs": [],
   "source": [
    "import pandas as pd\n",
    "import os\n",
    "\n",
    "# === Set paths ===\n",
    "BASE_DIR = \"../results\"                 # where gene prediction CSVs are stored\n",
    "MAP_DIR = \"../data/drug\"               # path to drug mapping file\n",
    "OUT_DIR = \"../results/drug_repurposing\"\n",
    "os.makedirs(OUT_DIR, exist_ok=True)\n",
    "\n",
    "# Input files\n",
    "ml_file     = os.path.join(BASE_DIR, \"ml_positive_genes.csv\")\n",
    "dl_file     = os.path.join(BASE_DIR, \"dl_positive_genes.csv\")\n",
    "common_file = os.path.join(BASE_DIR, \"common_positive_genes.csv\")\n",
    "map_file    = os.path.join(MAP_DIR, \"uniprot_drugid_map.txt\")  # or .csv/.tsv\n"
   ]
  },
  {
   "cell_type": "markdown",
   "metadata": {},
   "source": [
    "Load Data"
   ]
  },
  {
   "cell_type": "code",
   "execution_count": null,
   "metadata": {},
   "outputs": [],
   "source": [
    "# Load gene predictions\n",
    "ml_df     = pd.read_csv(ml_file)\n",
    "dl_df     = pd.read_csv(dl_file)\n",
    "common_df = pd.read_csv(common_file)\n",
    "\n",
    "# Load drug mapping\n",
    "try:\n",
    "    map_df = pd.read_csv(map_file, sep=\"\\t\")  # tab-separated by default\n",
    "except Exception:\n",
    "    map_df = pd.read_csv(map_file)            # fallback to comma\n",
    "\n",
    "# Quick look\n",
    "print(\"✅ Loaded ML genes:\", ml_df.shape)\n",
    "print(\"✅ Loaded DL genes:\", dl_df.shape)\n",
    "print(\"✅ Loaded Common genes:\", common_df.shape)\n",
    "print(\"✅ Loaded Drug mapping:\", map_df.shape)\n"
   ]
  },
  {
   "cell_type": "markdown",
   "metadata": {},
   "source": [
    "Define Merge Function"
   ]
  },
  {
   "cell_type": "code",
   "execution_count": null,
   "metadata": {},
   "outputs": [],
   "source": [
    "def extract_druggable(positive_df, map_df, output_name):\n",
    "    \"\"\"\n",
    "    Merge gene list with drug mapping and export CSV.\n",
    "    \"\"\"\n",
    "    merged_df = pd.merge(\n",
    "        positive_df,\n",
    "        map_df,\n",
    "        left_on='Gene ID',\n",
    "        right_on='UniProt ID'\n",
    "    )\n",
    "    druggable_df = merged_df[['Gene ID', 'Drug IDs']].drop_duplicates()\n",
    "    out_path = os.path.join(OUT_DIR, output_name)\n",
    "    druggable_df.to_csv(out_path, index=False)\n",
    "    print(f\"✅ Saved {output_name} — {druggable_df.shape[0]} gene–drug pairs.\")\n"
   ]
  },
  {
   "cell_type": "markdown",
   "metadata": {},
   "source": [
    "Run on All Gene Sets"
   ]
  },
  {
   "cell_type": "code",
   "execution_count": null,
   "metadata": {},
   "outputs": [],
   "source": [
    "extract_druggable(ml_df, map_df, \"ml_druggable_genes.csv\")\n",
    "extract_druggable(dl_df, map_df, \"dl_druggable_genes.csv\")\n",
    "extract_druggable(common_df, map_df, \"common_druggable_genes.csv\")\n"
   ]
  },
  {
   "cell_type": "markdown",
   "metadata": {},
   "source": [
    "## Output Summary\n",
    "\n",
    "The following files were created in `/results/drug_repurposing/`:\n",
    "\n",
    "- `ml_druggable_genes.csv`\n",
    "- `dl_druggable_genes.csv`\n",
    "- `common_druggable_genes.csv`\n",
    "\n",
    "Each contains:\n",
    "- `Gene ID` from ML/DL/common predictions\n",
    "- Corresponding `Drug IDs` from UniProt–DrugBank mapping\n"
   ]
  }
 ],
 "metadata": {
  "language_info": {
   "name": "python"
  }
 },
 "nbformat": 4,
 "nbformat_minor": 2
}
